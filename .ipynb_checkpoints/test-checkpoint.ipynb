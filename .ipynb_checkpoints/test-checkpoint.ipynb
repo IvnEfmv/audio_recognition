{
 "cells": [
  {
   "cell_type": "code",
   "execution_count": 1,
   "id": "c7b2c8a3",
   "metadata": {},
   "outputs": [],
   "source": [
    "#библиотеки\n",
    "\n",
    "from sklearn.pipeline import Pipeline\n",
    "from sklearn.feature_extraction.text import TfidfVectorizer\n",
    "import pandas as pd\n",
    "from nltk.tokenize import word_tokenize\n",
    "import string\n",
    "from nltk.corpus import stopwords\n",
    "from sklearn.neural_network import MLPClassifier\n",
    "from sklearn.tree import DecisionTreeClassifier\n",
    "from sklearn.model_selection import train_test_split\n",
    "from sklearn.metrics import precision_score, recall_score\n",
    "import pyaudio\n",
    "import wave\n",
    "import speech_recognition as speech_recog"
   ]
  },
  {
   "cell_type": "code",
   "execution_count": 2,
   "id": "9d2cf33b",
   "metadata": {},
   "outputs": [],
   "source": [
    "# Считываем файлы сцв\n",
    "df_pos = pd.read_csv(\"positive.csv\", sep=\";\", header=None)\n",
    "df_neg = pd.read_csv(\"negative.csv\", sep=\";\", header=None)\n",
    "df_kppos = pd.read_csv(\"kp_pos.csv\")\n",
    "df_kpneg = pd.read_csv(\"kp_neg.csv\")"
   ]
  },
  {
   "cell_type": "code",
   "execution_count": 3,
   "id": "ddcb2f54",
   "metadata": {},
   "outputs": [],
   "source": [
    "# df_pos.info()\n",
    "# df_neg.info()\n",
    "# df_kppos.info()\n",
    "# df_kpneg.info()"
   ]
  },
  {
   "cell_type": "code",
   "execution_count": 4,
   "id": "acfc5ca1",
   "metadata": {},
   "outputs": [],
   "source": [
    "# Создаем массив стоп-слов\n",
    "stopwords_ru = stopwords.words('russian')\n",
    "stopwords_ru.append('это')\n",
    "stopwords_ru.append('эта')\n",
    "stopwords_ru.remove('не')\n",
    "stopwords_ru.remove('нет')\n",
    "stopwords_ru.append('понравилась')\n",
    "stopwords_ru.append('понравилось')\n",
    "stopwords_ru.append('понравился')\n"
   ]
  },
  {
   "cell_type": "code",
   "execution_count": 5,
   "id": "907cf7d0",
   "metadata": {},
   "outputs": [
    {
     "name": "stdout",
     "output_type": "stream",
     "text": [
      "Wall time: 51 ms\n"
     ]
    }
   ],
   "source": [
    "%%time\n",
    "df = pd.DataFrame({'Comment': df_pos[3][:1000], 'Negative': 0}).merge(\n",
    "    pd.DataFrame({'Comment': df_neg[3][:1000], 'Negative': 1}), how='outer').merge(\n",
    "    pd.DataFrame({'Comment': df_kppos.Comment[:10000], 'Negative': 0}), how='outer').merge(\n",
    "    pd.DataFrame({'Comment': df_kpneg.Comment[:1000], 'Negative': 1}), how='outer')"
   ]
  },
  {
   "cell_type": "code",
   "execution_count": 6,
   "id": "b4bb15ec",
   "metadata": {},
   "outputs": [],
   "source": [
    "# a: 0\n",
    "# b: 1\n",
    "# c: 2\n",
    "\n",
    "#    [0.9, 0.3, 0.2]\n",
    "# a: [1, 0, 0]\n",
    "# b: [0, 1, 0]    \n",
    "# c: [0, 0, 1]    "
   ]
  },
  {
   "cell_type": "code",
   "execution_count": 7,
   "id": "dbab0549",
   "metadata": {},
   "outputs": [],
   "source": [
    "# %%time\n",
    "# # Заполняем массив постами\n",
    "# df = pd.DataFrame({'Comment': [], \"Negative\": []})\n",
    "\n",
    "# for i in range(0, 10000):\n",
    "#     df = df.append({'Comment': df_pos[3][i], \"Negative\": 0}, ignore_index=True)\n",
    "\n",
    "# for i in range(0, 10000):\n",
    "#     df = df.append({'Comment': df_neg[3][i], \"Negative\": 1}, ignore_index=True)\n",
    "\n",
    "# for i in range(0, 15000):\n",
    "#     df = df.append({'Comment': df_kppos['Comment'][i], \"Negative\": 0}, ignore_index=True)\n",
    "\n",
    "# for i in range(0, 15000):\n",
    "#     df = df.append({'Comment': df_kpneg['Comment'][i], \"Negative\": 1}, ignore_index=True)"
   ]
  },
  {
   "cell_type": "code",
   "execution_count": 8,
   "id": "8f1cc13d",
   "metadata": {
    "scrolled": false
   },
   "outputs": [
    {
     "name": "stdout",
     "output_type": "stream",
     "text": [
      "0    9311\n",
      "1    1689\n",
      "Name: Negative, dtype: int64\n",
      "0    1689\n",
      "1     311\n",
      "Name: Negative, dtype: int64\n"
     ]
    }
   ],
   "source": [
    "# Заполняем массивы для обучения и проверки\n",
    "\n",
    "df['Negative'] = df['Negative'].apply(int)\n",
    "\n",
    "train_df, test_df = train_test_split(df, test_size=2000)\n",
    "\n",
    "print(train_df['Negative'].value_counts())\n",
    "print(test_df['Negative'].value_counts())\n",
    "\n"
   ]
  },
  {
   "cell_type": "code",
   "execution_count": 9,
   "id": "9733f457",
   "metadata": {},
   "outputs": [],
   "source": [
    "#создаем токенизатор\n",
    "def preproc(dataframe: str):\n",
    "    # Переводим массив в строку для быстрой обработки\n",
    "    dataframe = str(dataframe)\n",
    "\n",
    "    # Уничтожаем неугодные символы\n",
    "    patterns = \"[A-Za-z0123456789!#$%&'()*+,./:;<=>?@[\\]^_`{|}~—\\\"\\-]+QWERTYUIOP[]ASDFGHJKLZXCVBNMqwertyuiopasdfghjklzxcvbnm\"\n",
    "    dataframe = dataframe.replace('\\'', ' ')\n",
    "    dataframe = dataframe.replace('RT', ' ')\n",
    "    dataframe = dataframe.replace('ё', 'е')\n",
    "    dataframe = dataframe.replace('это', '')\n",
    "    for i in patterns:\n",
    "        dataframe = dataframe.replace(f'{i}', '')\n",
    "\n",
    "    dataframe = dataframe.lower()\n",
    "    tokens = word_tokenize(dataframe, language='russian')\n",
    "    tokens = [i for i in tokens if i not in string.punctuation]\n",
    "    tokens = [i for i in tokens if i not in stopwords_ru]\n",
    "\n",
    "    return tokens"
   ]
  },
  {
   "cell_type": "code",
   "execution_count": 17,
   "id": "0f69aa51",
   "metadata": {},
   "outputs": [
    {
     "name": "stdout",
     "output_type": "stream",
     "text": [
      "Wall time: 20.2 s\n"
     ]
    }
   ],
   "source": [
    "%%time\n",
    "#Обучаем модель\n",
    "vectorizer = TfidfVectorizer(tokenizer=lambda x: preproc(x))\n",
    "features = vectorizer.fit_transform(train_df['Comment'])\n",
    "model = MLPClassifier(random_state=0)\n",
    "\n",
    "model_pipeline = Pipeline([\n",
    "    ('vectorizer', TfidfVectorizer(tokenizer=lambda x: preproc(x))),\n",
    "    ('model', MLPClassifier(random_state=0))\n",
    "]\n",
    ")"
   ]
  },
  {
   "cell_type": "code",
   "execution_count": 18,
   "id": "69a6c263",
   "metadata": {},
   "outputs": [],
   "source": [
    "# print(vectorizer.fit_transform(train_df['Comment']))"
   ]
  },
  {
   "cell_type": "code",
   "execution_count": null,
   "id": "9bd8f3d0",
   "metadata": {
    "scrolled": false
   },
   "outputs": [],
   "source": [
    "%%time\n",
    "model_pipeline.fit(train_df['Comment'], train_df[\"Negative\"])"
   ]
  },
  {
   "cell_type": "code",
   "execution_count": null,
   "id": "0430c19b",
   "metadata": {},
   "outputs": [],
   "source": [
    "p = \"Мне понравилась картина\"\n",
    "r = \"Мне не понравилась эта картина\"\n",
    "g = \"Картина выглядит ужасно\"\n",
    "h = \"Прекрасная картина и хороший автор\"\n",
    "print(model_pipeline.predict([p]))\n",
    "print(model_pipeline.predict([r]))\n",
    "print(model_pipeline.predict([g]))\n",
    "print(model_pipeline.predict([h]))\n",
    "#################################\n",
    "############################\n",
    "# сделать демку"
   ]
  },
  {
   "cell_type": "code",
   "execution_count": 14,
   "id": "740b321d",
   "metadata": {
    "scrolled": true
   },
   "outputs": [],
   "source": [
    "# %%time\n",
    "# import pickle\n",
    "# # with open('model1.pkl', 'wb') as f:\n",
    "# #     pickle.dump(model_pipeline[1], f)\n",
    "\n",
    "# with open('model1.pkl', 'rb') as f:\n",
    "#     model = pickle.load(f)\n",
    "    \n",
    "# # model_pipeline = Pipeline([\n",
    "# #     ('vectorizer', TfidfVectorizer(tokenizer=lambda x: preproc(x))),\n",
    "# #     ('model', model)\n",
    "# # ])"
   ]
  },
  {
   "cell_type": "code",
   "execution_count": 15,
   "id": "438a52c1",
   "metadata": {},
   "outputs": [
    {
     "name": "stdout",
     "output_type": "stream",
     "text": [
      "########ПРОИСХОДИТ ЗАПИСЬ########\n",
      "########ЗАПИСЬ ЗАВЕРШЕНА########\n"
     ]
    }
   ],
   "source": [
    "# Звук\n",
    "\n",
    "CHUNK = 1024\n",
    "FORMAT = pyaudio.paInt16\n",
    "CHANNELS = 1\n",
    "RATE = 44100\n",
    "RECORD_SECONDS = 10\n",
    "WAVE_OUTPUT_FILENAME = \"output.wav\"\n",
    "\n",
    "p = pyaudio.PyAudio()\n",
    "\n",
    "stream = p.open(format=FORMAT,\n",
    "                channels=CHANNELS,\n",
    "                rate=RATE,\n",
    "                input=True,\n",
    "                frames_per_buffer=CHUNK)\n",
    "\n",
    "print(\"########ПРОИСХОДИТ ЗАПИСЬ########\")\n",
    "\n",
    "frames = []\n",
    "\n",
    "for i in range(0, int(RATE / CHUNK * RECORD_SECONDS)):\n",
    "    data = stream.read(CHUNK)\n",
    "    frames.append(data)\n",
    "\n",
    "print(\"########ЗАПИСЬ ЗАВЕРШЕНА########\")\n",
    "\n",
    "stream.stop_stream()\n",
    "stream.close()\n",
    "p.terminate()\n",
    "\n",
    "wf = wave.open(WAVE_OUTPUT_FILENAME, 'wb')\n",
    "wf.setnchannels(CHANNELS)\n",
    "wf.setsampwidth(p.get_sample_size(FORMAT))\n",
    "wf.setframerate(RATE)\n",
    "wf.writeframes(b''.join(frames))\n",
    "wf.close()\n"
   ]
  },
  {
   "cell_type": "code",
   "execution_count": 16,
   "id": "a3969f8c",
   "metadata": {},
   "outputs": [
    {
     "ename": "UnknownValueError",
     "evalue": "",
     "output_type": "error",
     "traceback": [
      "\u001b[1;31m---------------------------------------------------------------------------\u001b[0m",
      "\u001b[1;31mUnknownValueError\u001b[0m                         Traceback (most recent call last)",
      "\u001b[1;32m<ipython-input-16-c7c871f11814>\u001b[0m in \u001b[0;36m<module>\u001b[1;34m\u001b[0m\n\u001b[0;32m     13\u001b[0m \u001b[1;33m\u001b[0m\u001b[0m\n\u001b[0;32m     14\u001b[0m \u001b[1;31m# Запись преобразованного аудио в str\u001b[0m\u001b[1;33m\u001b[0m\u001b[1;33m\u001b[0m\u001b[1;33m\u001b[0m\u001b[0m\n\u001b[1;32m---> 15\u001b[1;33m \u001b[0msentence\u001b[0m \u001b[1;33m=\u001b[0m \u001b[0mr\u001b[0m\u001b[1;33m.\u001b[0m\u001b[0mrecognize_google\u001b[0m\u001b[1;33m(\u001b[0m\u001b[0mcontent\u001b[0m\u001b[1;33m,\u001b[0m \u001b[0mlanguage\u001b[0m\u001b[1;33m=\u001b[0m\u001b[1;34m\"ru-RU\"\u001b[0m\u001b[1;33m)\u001b[0m\u001b[1;33m\u001b[0m\u001b[1;33m\u001b[0m\u001b[0m\n\u001b[0m\u001b[0;32m     16\u001b[0m \u001b[1;33m\u001b[0m\u001b[0m\n\u001b[0;32m     17\u001b[0m \u001b[1;31m# Считывание аудиодорожки\u001b[0m\u001b[1;33m\u001b[0m\u001b[1;33m\u001b[0m\u001b[1;33m\u001b[0m\u001b[0m\n",
      "\u001b[1;32m~\\anaconda3\\lib\\site-packages\\speech_recognition\\__init__.py\u001b[0m in \u001b[0;36mrecognize_google\u001b[1;34m(self, audio_data, key, language, show_all)\u001b[0m\n\u001b[0;32m    856\u001b[0m         \u001b[1;31m# return results\u001b[0m\u001b[1;33m\u001b[0m\u001b[1;33m\u001b[0m\u001b[1;33m\u001b[0m\u001b[0m\n\u001b[0;32m    857\u001b[0m         \u001b[1;32mif\u001b[0m \u001b[0mshow_all\u001b[0m\u001b[1;33m:\u001b[0m \u001b[1;32mreturn\u001b[0m \u001b[0mactual_result\u001b[0m\u001b[1;33m\u001b[0m\u001b[1;33m\u001b[0m\u001b[0m\n\u001b[1;32m--> 858\u001b[1;33m         \u001b[1;32mif\u001b[0m \u001b[1;32mnot\u001b[0m \u001b[0misinstance\u001b[0m\u001b[1;33m(\u001b[0m\u001b[0mactual_result\u001b[0m\u001b[1;33m,\u001b[0m \u001b[0mdict\u001b[0m\u001b[1;33m)\u001b[0m \u001b[1;32mor\u001b[0m \u001b[0mlen\u001b[0m\u001b[1;33m(\u001b[0m\u001b[0mactual_result\u001b[0m\u001b[1;33m.\u001b[0m\u001b[0mget\u001b[0m\u001b[1;33m(\u001b[0m\u001b[1;34m\"alternative\"\u001b[0m\u001b[1;33m,\u001b[0m \u001b[1;33m[\u001b[0m\u001b[1;33m]\u001b[0m\u001b[1;33m)\u001b[0m\u001b[1;33m)\u001b[0m \u001b[1;33m==\u001b[0m \u001b[1;36m0\u001b[0m\u001b[1;33m:\u001b[0m \u001b[1;32mraise\u001b[0m \u001b[0mUnknownValueError\u001b[0m\u001b[1;33m(\u001b[0m\u001b[1;33m)\u001b[0m\u001b[1;33m\u001b[0m\u001b[1;33m\u001b[0m\u001b[0m\n\u001b[0m\u001b[0;32m    859\u001b[0m \u001b[1;33m\u001b[0m\u001b[0m\n\u001b[0;32m    860\u001b[0m         \u001b[1;32mif\u001b[0m \u001b[1;34m\"confidence\"\u001b[0m \u001b[1;32min\u001b[0m \u001b[0mactual_result\u001b[0m\u001b[1;33m[\u001b[0m\u001b[1;34m\"alternative\"\u001b[0m\u001b[1;33m]\u001b[0m\u001b[1;33m:\u001b[0m\u001b[1;33m\u001b[0m\u001b[1;33m\u001b[0m\u001b[0m\n",
      "\u001b[1;31mUnknownValueError\u001b[0m: "
     ]
    }
   ],
   "source": [
    "\n",
    "# Создается метод r (Recognizer)\n",
    "sample_audio = speech_recog.AudioFile('output.wav')\n",
    "r = speech_recog.Recognizer()\n",
    "\n",
    "# В content записывается аудио файл sample_audio\n",
    "with sample_audio as audio_file:\n",
    "    content = r.record(audio_file)\n",
    "\n",
    "# Аудиофайл очищается от шумов\n",
    "with sample_audio as audio_file:\n",
    "    content = r.record(audio_file)\n",
    "    r.adjust_for_ambient_noise(audio_file)\n",
    "\n",
    "# Запись преобразованного аудио в str\n",
    "sentence = r.recognize_google(content, language=\"ru-RU\")\n",
    "\n",
    "# Считывание аудиодорожки\n",
    "p = sentence\n",
    "print(p)\n",
    "\n",
    "if model_pipeline.predict([p]) == [0]:\n",
    "    print(\"Комментарий положительный\")\n",
    "else:\n",
    "    print(\"Комментарий отрицательный\")\n",
    "\n"
   ]
  },
  {
   "cell_type": "code",
   "execution_count": null,
   "id": "bf5a7c5d",
   "metadata": {},
   "outputs": [],
   "source": []
  }
 ],
 "metadata": {
  "kernelspec": {
   "display_name": "Python 3",
   "language": "python",
   "name": "python3"
  },
  "language_info": {
   "codemirror_mode": {
    "name": "ipython",
    "version": 3
   },
   "file_extension": ".py",
   "mimetype": "text/x-python",
   "name": "python",
   "nbconvert_exporter": "python",
   "pygments_lexer": "ipython3",
   "version": "3.8.8"
  }
 },
 "nbformat": 4,
 "nbformat_minor": 5
}
