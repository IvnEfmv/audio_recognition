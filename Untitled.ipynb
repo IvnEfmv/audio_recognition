{
 "cells": [
  {
   "cell_type": "code",
   "execution_count": 1,
   "id": "c7b2c8a3",
   "metadata": {},
   "outputs": [],
   "source": [
    "#библиотеки\n",
    "\n",
    "from sklearn.pipeline import Pipeline\n",
    "from sklearn.feature_extraction.text import TfidfVectorizer\n",
    "import pandas as pd\n",
    "from nltk.tokenize import word_tokenize\n",
    "import string\n",
    "from nltk.corpus import stopwords\n",
    "from sklearn.linear_model import LogisticRegression\n",
    "from sklearn.tree import DecisionTreeClassifier\n",
    "from sklearn.neural_network import MLPClassifier\n",
    "from sklearn.model_selection import train_test_split\n",
    "from sklearn.metrics import precision_score, recall_score\n",
    "import pyaudio\n",
    "import wave\n",
    "import speech_recognition as speech_recog\n",
    "\n",
    "from nltk.stem import SnowballStemmer\n",
    "\n",
    "import pickle\n",
    "\n",
    "import queue\n",
    "import sounddevice as sd\n",
    "import vosk\n",
    "import sys\n",
    "import os\n",
    "import json\n",
    "from pathlib import Path"
   ]
  },
  {
   "cell_type": "code",
   "execution_count": 2,
   "id": "9d2cf33b",
   "metadata": {
    "scrolled": true
   },
   "outputs": [],
   "source": [
    "# Считываем файлы сцв\n",
    "neu = pd.read_csv(\"neutral(p).csv\")\n",
    "df_kppos = pd.read_csv(\"kp_pos(p).csv\")\n",
    "df_kpneg = pd.read_csv(\"kp_neg(p).csv\")"
   ]
  },
  {
   "cell_type": "code",
   "execution_count": 3,
   "id": "a4b49a80",
   "metadata": {},
   "outputs": [],
   "source": [
    "# df_pos.info()\n",
    "# df_neg.info()\n",
    "# df_kppos.info()\n",
    "# df_kpneg.info()"
   ]
  },
  {
   "cell_type": "code",
   "execution_count": 4,
   "id": "fa718d89",
   "metadata": {},
   "outputs": [],
   "source": [
    "# df_kppos.Comment = df_kppos.Comment.map(str.split)\n",
    "# df_kpneg.Comment = df_kpneg.Comment.map(str.split)\n",
    "# neu.Comment = neu.Comment.map(str.split)"
   ]
  },
  {
   "cell_type": "code",
   "execution_count": 5,
   "id": "acfc5ca1",
   "metadata": {},
   "outputs": [],
   "source": [
    "# Создаем массив стоп-слов\n",
    "stopwords_ru = stopwords.words('russian')\n",
    "stopwords_ru.append('это')\n",
    "stopwords_ru.append('эта')\n",
    "stopwords_ru.remove('не')\n",
    "stopwords_ru.remove('нет')\n",
    "# stopwords_ru.append('понравилась')\n",
    "# stopwords_ru.append('понравилось')\n",
    "# stopwords_ru.append('понравился')\n"
   ]
  },
  {
   "cell_type": "code",
   "execution_count": 6,
   "id": "907cf7d0",
   "metadata": {
    "scrolled": true
   },
   "outputs": [
    {
     "name": "stdout",
     "output_type": "stream",
     "text": [
      "Wall time: 120 ms\n"
     ]
    }
   ],
   "source": [
    "%%time\n",
    "df = pd.DataFrame({'Comment': df_kppos.Comment[:15000], 'Negative': 1}).merge(\n",
    "    pd.DataFrame({'Comment': df_kpneg.Comment[:15000], 'Negative': -1}), how='outer').merge(\n",
    "    pd.DataFrame({'Comment': neu.Comment[:15000], 'Negative': 0}), how='outer')"
   ]
  },
  {
   "cell_type": "code",
   "execution_count": 7,
   "id": "534f9220",
   "metadata": {},
   "outputs": [],
   "source": [
    "# df.Comment = df.Comment.map(str.split)"
   ]
  },
  {
   "cell_type": "code",
   "execution_count": 8,
   "id": "8f1cc13d",
   "metadata": {
    "scrolled": true
   },
   "outputs": [
    {
     "name": "stdout",
     "output_type": "stream",
     "text": [
      "-1    14375\n",
      " 1    14340\n",
      " 0    14285\n",
      "Name: Negative, dtype: int64\n",
      " 0    715\n",
      " 1    660\n",
      "-1    625\n",
      "Name: Negative, dtype: int64\n"
     ]
    }
   ],
   "source": [
    "# Заполняем массивы для обучения и проверки\n",
    "\n",
    "df['Negative'] = df['Negative'].apply(int)\n",
    "\n",
    "train_df, test_df = train_test_split(df, test_size=2000)\n",
    "\n",
    "print(train_df['Negative'].value_counts())\n",
    "print(test_df['Negative'].value_counts())\n",
    "\n"
   ]
  },
  {
   "cell_type": "code",
   "execution_count": 9,
   "id": "9733f457",
   "metadata": {},
   "outputs": [],
   "source": [
    "#создаем токенизатор\n",
    "\n",
    "def preproc(tokens):\n",
    "    return tokens.split()\n",
    "#     return tokens"
   ]
  },
  {
   "cell_type": "code",
   "execution_count": 10,
   "id": "adfd1311",
   "metadata": {},
   "outputs": [],
   "source": [
    "def preproc_r(dataframe: str):\n",
    "    # Переводим массив в строку для быстрой обработки\n",
    "    dataframe = str(dataframe)\n",
    "    snowball = SnowballStemmer(language=\"russian\")\n",
    "    # Уничтожаем неугодные символы\n",
    "    patterns = \"[A-Za-z0123456789!#$%&'()*+,./:;<=>?@[\\]^_`{|}~—\\\"\\-]+QWERTYUIOP[]ASDFGHJKLZXCVBNMqwertyuiopasdfghjklzxcvbnm«»\"\n",
    "    dataframe = dataframe.replace('\\'', ' ')\n",
    "    dataframe = dataframe.replace('ё', 'е')\n",
    "    dataframe = dataframe.replace('это', '')\n",
    "    for i in patterns:\n",
    "        dataframe = dataframe.replace(f'{i}', '')\n",
    "\n",
    "    dataframe = dataframe.lower()\n",
    "    tokens = word_tokenize(dataframe, language='russian')\n",
    "    tokens = [i for i in tokens if i not in string.punctuation]\n",
    "    tokens = [snowball.stem(i) for i in tokens]\n",
    "    tokens = [i for i in tokens if i not in stopwords_ru]\n",
    "\n",
    "#     return tokens\n",
    "    return ' '.join(tokens)"
   ]
  },
  {
   "cell_type": "code",
   "execution_count": 11,
   "id": "0f69aa51",
   "metadata": {},
   "outputs": [
    {
     "name": "stdout",
     "output_type": "stream",
     "text": [
      "Wall time: 0 ns\n"
     ]
    }
   ],
   "source": [
    "%%time\n",
    "\n",
    "model_pipeline = Pipeline([\n",
    "    ('vectorizer', TfidfVectorizer(tokenizer=preproc)),\n",
    "    ('model', LogisticRegression())\n",
    "]\n",
    ")"
   ]
  },
  {
   "cell_type": "code",
   "execution_count": 12,
   "id": "c1220914",
   "metadata": {},
   "outputs": [],
   "source": [
    "# vectorizer.fit_transform(train_df['Comment'])"
   ]
  },
  {
   "cell_type": "code",
   "execution_count": 13,
   "id": "9bd8f3d0",
   "metadata": {
    "scrolled": true
   },
   "outputs": [
    {
     "name": "stdout",
     "output_type": "stream",
     "text": [
      "Wall time: 25.4 s\n"
     ]
    },
    {
     "name": "stderr",
     "output_type": "stream",
     "text": [
      "C:\\Users\\User\\anaconda3\\lib\\site-packages\\sklearn\\linear_model\\_logistic.py:814: ConvergenceWarning: lbfgs failed to converge (status=1):\n",
      "STOP: TOTAL NO. of ITERATIONS REACHED LIMIT.\n",
      "\n",
      "Increase the number of iterations (max_iter) or scale the data as shown in:\n",
      "    https://scikit-learn.org/stable/modules/preprocessing.html\n",
      "Please also refer to the documentation for alternative solver options:\n",
      "    https://scikit-learn.org/stable/modules/linear_model.html#logistic-regression\n",
      "  n_iter_i = _check_optimize_result(\n"
     ]
    },
    {
     "data": {
      "text/plain": [
       "Pipeline(steps=[('vectorizer',\n",
       "                 TfidfVectorizer(tokenizer=<function preproc at 0x000001CE4E61CA60>)),\n",
       "                ('model', LogisticRegression())])"
      ]
     },
     "execution_count": 13,
     "metadata": {},
     "output_type": "execute_result"
    }
   ],
   "source": [
    "%%time\n",
    "model_pipeline.fit(train_df['Comment'], train_df[\"Negative\"])"
   ]
  },
  {
   "cell_type": "code",
   "execution_count": 14,
   "id": "ff768ee7",
   "metadata": {},
   "outputs": [
    {
     "data": {
      "text/plain": [
       "0.701"
      ]
     },
     "execution_count": 14,
     "metadata": {},
     "output_type": "execute_result"
    }
   ],
   "source": [
    "model_pipeline.score(test_df['Comment'], test_df['Negative'])"
   ]
  },
  {
   "cell_type": "code",
   "execution_count": 15,
   "id": "0430c19b",
   "metadata": {
    "scrolled": true
   },
   "outputs": [
    {
     "name": "stdout",
     "output_type": "stream",
     "text": [
      "76.99\t% probability\t[1]\tСегодня я побывал на отличной выставке\n",
      "87.76\t% probability\t[1]\tЯ был очень доволен этим фильмом\n",
      "71.58\t% probability\t[0]\tВышло крайне красиво\n",
      "75.67\t% probability\t[1]\tОчень крутая картина\n",
      "55.97\t% probability\t[0]\tЯ в полном восторге\n",
      "\n",
      "80.58\t% probability\t[-1]\tЭта картина просто ужасна\n",
      "87.18\t% probability\t[-1]\tПолный бред\n",
      "53.55\t% probability\t[0]\tМне не понравилось то что я увидел\n",
      "66.38\t% probability\t[-1]\tКажется ничего хуже я не встречал\n",
      "\n",
      "44.09\t% probability\t[1]\tЭта выставка была обычной\n",
      "53.91\t% probability\t[0]\tНичего особенного\n",
      "38.21\t% probability\t[0]\tМне безразлична эта выставка\n",
      "63.66\t% probability\t[0]\tЯ совсем не впечатлен\n"
     ]
    }
   ],
   "source": [
    "p = [\"Сегодня я побывал на отличной выставке\",\n",
    "'Я был очень доволен этим фильмом',\n",
    "'Вышло крайне красиво',\n",
    "'Очень крутая картина',\n",
    "'Я в полном восторге\\n',\n",
    "\n",
    "'Эта картина просто ужасна',\n",
    "'Полный бред',\n",
    "'Мне не понравилось то что я увидел',\n",
    "'Кажется ничего хуже я не встречал\\n',\n",
    "\n",
    "'Эта выставка была обычной',\n",
    "'Ничего особенного',\n",
    "'Мне безразлична эта выставка',\n",
    "'Я совсем не впечатлен']\n",
    "\n",
    "for i in p:\n",
    "    p_p = preproc_r(i)\n",
    "    print(\"{0:.2f}\".format(max(model_pipeline.predict_proba([p_p])[0]*100)),'% probability', model_pipeline.predict([p_p]), i, sep='\\t')"
   ]
  },
  {
   "cell_type": "code",
   "execution_count": 16,
   "id": "b2cccc16",
   "metadata": {},
   "outputs": [],
   "source": [
    "with open('model.pkl', 'wb') as f:\n",
    "    pickle.dump(model_pipeline, f)"
   ]
  },
  {
   "cell_type": "code",
   "execution_count": 17,
   "id": "cd4113a7",
   "metadata": {},
   "outputs": [],
   "source": [
    "with open('model.pkl', 'rb') as f:\n",
    "    model = pickle.load(f)"
   ]
  },
  {
   "cell_type": "code",
   "execution_count": 18,
   "id": "ef66d923",
   "metadata": {},
   "outputs": [
    {
     "name": "stdout",
     "output_type": "stream",
     "text": [
      "Нажмите Ctrl+C для выхода\n",
      "##################################################\n",
      "[0.12517945 0.26118289 0.61363766]\t% probability\t[1]\tалло\n",
      "\n",
      "Выход\n"
     ]
    }
   ],
   "source": [
    "# Запуск программ по голосовой команде с возможностью настройки через конфиг\n",
    "MODEL_PATH = 'vosk-model-small-ru-0.15'\n",
    "\n",
    "q = queue.Queue()\n",
    "\n",
    "\n",
    "def callback(indata, frames, time, status):\n",
    "    \"\"\"This is called (from a separate thread) for each audio block.\"\"\"\n",
    "    if status:\n",
    "        print(status, file=sys.stderr)\n",
    "    q.put(bytes(indata))\n",
    "\n",
    "\n",
    "if __name__ == '__main__':\n",
    "\n",
    "    # Распознавание речи\n",
    "    vosk.SetLogLevel(-1)\n",
    "    device_info = sd.query_devices(sd.default.device, 'input')\n",
    "    samplerate = int(device_info['default_samplerate'])\n",
    "    model = vosk.Model(MODEL_PATH)\n",
    "    with sd.RawInputStream(callback=callback, dtype='int16', channels=1):\n",
    "        rec = vosk.KaldiRecognizer(model, samplerate)\n",
    "        print('Нажмите Ctrl+C для выхода\\n', '#' * 50, sep='')\n",
    "        try:\n",
    "            while True:\n",
    "                data = q.get()\n",
    "                if rec.AcceptWaveform(data):\n",
    "                    p = json.loads(rec.Result())\n",
    "                    if p['text']:\n",
    "                        p_p = preproc_r(p['text'])\n",
    "                        print(model_pipeline.predict_proba([p_p])[0],'% probability', model_pipeline.predict([p_p]), p['text'], sep='\\t')\n",
    "        except KeyboardInterrupt:\n",
    "            print('\\nВыход')\n"
   ]
  },
  {
   "cell_type": "code",
   "execution_count": null,
   "id": "0539483a",
   "metadata": {},
   "outputs": [],
   "source": []
  }
 ],
 "metadata": {
  "kernelspec": {
   "display_name": "Python 3",
   "language": "python",
   "name": "python3"
  },
  "language_info": {
   "codemirror_mode": {
    "name": "ipython",
    "version": 3
   },
   "file_extension": ".py",
   "mimetype": "text/x-python",
   "name": "python",
   "nbconvert_exporter": "python",
   "pygments_lexer": "ipython3",
   "version": "3.8.8"
  }
 },
 "nbformat": 4,
 "nbformat_minor": 5
}
